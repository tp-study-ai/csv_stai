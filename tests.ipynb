{
 "cells": [
  {
   "cell_type": "code",
   "execution_count": 1,
   "metadata": {
    "collapsed": true
   },
   "outputs": [],
   "source": [
    "import pandas as pd"
   ]
  },
  {
   "cell_type": "code",
   "execution_count": 2,
   "outputs": [],
   "source": [
    "df_lev = pd.read_csv(\"db_fill_with_ms.csv\", index_col=0)"
   ],
   "metadata": {
    "collapsed": false
   }
  },
  {
   "cell_type": "code",
   "execution_count": 3,
   "outputs": [
    {
     "data": {
      "text/plain": "                                                                             description  \\\nname                                                                                       \n1000_A. Codehorses T-shirts            Codehorses has just hosted the second Codehors...   \n1025_B. Weakened Common Divisor        During the research on properties of the great...   \n1045_D. Interstellar battle            In the intergalactic empire Bubbledom there ar...   \n1068_D. Array Without Local Maximums   Ivan unexpectedly saw a present from one of hi...   \n1090_C. New Year Presents              Santa has prepared boxes with presents for n k...   \n\n                                                                            public_tests  \\\nname                                                                                       \n1000_A. Codehorses T-shirts            [input: \"2\\nM\\nXS\\nXS\\nM\\n\"\\noutput: \"0\\n\"\\n, ...   \n1025_B. Weakened Common Divisor        [input: \"2\\n10 16\\n7 17\\n\"\\noutput: \"-1\\n\"\\n, ...   \n1045_D. Interstellar battle            [input: \"5\\n0.50 0.29 0.49 0.95 0.83\\n2 3\\n0 3...   \n1068_D. Array Without Local Maximums   [input: \"3\\n1 -1 2\\n\"\\noutput: \"1\\n\"\\n, input:...   \n1090_C. New Year Presents              [input: \"3 5\\n5 1 2 3 4 5\\n2 1 2\\n2 3 4\\n\"\\nou...   \n\n                                                                           private_tests  \\\nname                                                                                       \n1000_A. Codehorses T-shirts            [input: \"6\\nM\\nXXS\\nXXL\\nXXL\\nL\\nL\\nXXS\\nXXL\\n...   \n1025_B. Weakened Common Divisor        [input: \"3\\n14 14\\n2 7\\n2 2\\n\"\\noutput: \"2\\n\"\\...   \n1045_D. Interstellar battle            [input: \"1\\n0.28\\n30\\n0 0.72\\n0 0.55\\n0 0.80\\n...   \n1068_D. Array Without Local Maximums   [input: \"8\\n-1 -1 -1 59 -1 -1 -1 -1\\n\"\\noutput...   \n1090_C. New Year Presents              [input: \"1 1\\n0\\n\"\\noutput: \"0\\n\"\\n, input: \"1...   \n\n                                                                         generated_tests  \\\nname                                                                                       \n1000_A. Codehorses T-shirts            [input: \"1\\nM\\nS\\n\"\\noutput: \"1\\n\"\\n, input: \"...   \n1025_B. Weakened Common Divisor        [input: \"3\\n14 16\\n2 7\\n2 2\\n\"\\noutput: \"2\"\\n,...   \n1045_D. Interstellar battle            [input: \"11\\n0.07 0.85 0.27 0.71 0.24 0.43 0.6...   \n1068_D. Array Without Local Maximums   [input: \"2\\n23 38\\n\"\\noutput: \"0\\n\"\\n, input: ...   \n1090_C. New Year Presents              [input: \"1 2\\n0\\n\"\\noutput: \"0\\n\"\\n, input: \"3...   \n\n                                       difficulty  cf_contest_id cf_index  \\\nname                                                                        \n1000_A. Codehorses T-shirts                     7           1000        A   \n1025_B. Weakened Common Divisor                 8           1025        B   \n1045_D. Interstellar battle                    10           1045        D   \n1068_D. Array Without Local Maximums           10           1068        D   \n1090_C. New Year Presents                       9           1090        C   \n\n                                       cf_points  cf_rating  \\\nname                                                          \n1000_A. Codehorses T-shirts                  0.0       1200   \n1025_B. Weakened Common Divisor           1000.0       1600   \n1045_D. Interstellar battle                  0.0       2200   \n1068_D. Array Without Local Maximums       500.0       1900   \n1090_C. New Year Presents                    0.0       2400   \n\n                                                                              cf_tags  \\\nname                                                                                    \n1000_A. Codehorses T-shirts                              ['greedy', 'implementation']   \n1025_B. Weakened Common Divisor            ['brute force', 'greedy', 'number theory']   \n1045_D. Interstellar battle                        ['math', 'probabilities', 'trees']   \n1068_D. Array Without Local Maximums                                           ['dp']   \n1090_C. New Year Presents              ['constructive algorithms', 'data structures']   \n\n                                       time_limit  memory_limit_bytes  \\\nname                                                                    \n1000_A. Codehorses T-shirts                   2.0           256000000   \n1025_B. Weakened Common Divisor               1.5           256000000   \n1045_D. Interstellar battle                   1.0           256000000   \n1068_D. Array Without Local Maximums          2.0           512000000   \n1090_C. New Year Presents                     2.0           512000000   \n\n                                                                                    link  \\\nname                                                                                       \n1000_A. Codehorses T-shirts            https://codeforces.com/contest/1000/problem/A?...   \n1025_B. Weakened Common Divisor        https://codeforces.com/contest/1025/problem/B?...   \n1045_D. Interstellar battle            https://codeforces.com/contest/1045/problem/D?...   \n1068_D. Array Without Local Maximums   https://codeforces.com/contest/1068/problem/D?...   \n1090_C. New Year Presents              https://codeforces.com/contest/1090/problem/C?...   \n\n                                                                  name_ru  \\\nname                                                                        \n1000_A. Codehorses T-shirts                        A. Футболки Codehorses   \n1025_B. Weakened Common Divisor             B. Ослабленный Общий Делитель   \n1045_D. Interstellar battle                          D. Межзвездная битва   \n1068_D. Array Without Local Maximums   D. Массив без локальных максимумов   \n1090_C. New Year Presents                           C. Новогодние подарки   \n\n                                                                                 task_ru  \\\nname                                                                                       \n1000_A. Codehorses T-shirts            <div>\\n<p>Codehorses вот только закончил прове...   \n1025_B. Weakened Common Divisor        <div>\\n<p>В процессе исследования свойств наиб...   \n1045_D. Interstellar battle            <div>\\n<p>В межгалактической империи Баблдом $...   \n1068_D. Array Without Local Maximums   <div>\\n<p>Ване попался на глаза подарок с како...   \n1090_C. New Year Presents              <div>\\n<p>Санта-Клаус приготовил коробки с под...   \n\n                                                                                   input  \\\nname                                                                                       \n1000_A. Codehorses T-shirts            <div class=\"input-specification\">\\n<div class=...   \n1025_B. Weakened Common Divisor        <div class=\"input-specification\">\\n<div class=...   \n1045_D. Interstellar battle            <div class=\"input-specification\">\\n<div class=...   \n1068_D. Array Without Local Maximums   <div class=\"input-specification\">\\n<div class=...   \n1090_C. New Year Presents              <div class=\"input-specification\">\\n<div class=...   \n\n                                                                                  output  \\\nname                                                                                       \n1000_A. Codehorses T-shirts            <div class=\"output-specification\">\\n<div class...   \n1025_B. Weakened Common Divisor        <div class=\"output-specification\">\\n<div class...   \n1045_D. Interstellar battle            <div class=\"output-specification\">\\n<div class...   \n1068_D. Array Without Local Maximums   <div class=\"output-specification\">\\n<div class...   \n1090_C. New Year Presents              <div class=\"output-specification\">\\n<div class...   \n\n                                                                                    note  \\\nname                                                                                       \n1000_A. Codehorses T-shirts            <div class=\"note\">\\n<div class=\"section-title\"...   \n1025_B. Weakened Common Divisor        <div class=\"note\">\\n<div class=\"section-title\"...   \n1045_D. Interstellar battle                                                          NaN   \n1068_D. Array Without Local Maximums   <div class=\"note\">\\n<div class=\"section-title\"...   \n1090_C. New Year Presents                                                            NaN   \n\n                                            tag_ids  \\\nname                                                  \n1000_A. Codehorses T-shirts                [21, 23]   \n1025_B. Weakened Common Divisor         [5, 21, 28]   \n1045_D. Interstellar battle            [25, 29, 36]   \n1068_D. Array Without Local Maximums           [12]   \n1090_C. New Year Presents                    [8, 9]   \n\n                                                                         master_solution  \nname                                                                                      \n1000_A. Codehorses T-shirts            using namespace std;\\nint n, i;\\nstring x;\\nmu...  \n1025_B. Weakened Common Divisor        \\nusing namespace std;\\nint main() {\\n    long...  \n1045_D. Interstellar battle            using namespace std;\\n\\n\\n\\n\\nconst int N = 10...  \n1068_D. Array Without Local Maximums   \\nusing namespace std;\\n\\nconst int mod = 9982...  \n1090_C. New Year Presents                                                            NaN  ",
      "text/html": "<div>\n<style scoped>\n    .dataframe tbody tr th:only-of-type {\n        vertical-align: middle;\n    }\n\n    .dataframe tbody tr th {\n        vertical-align: top;\n    }\n\n    .dataframe thead th {\n        text-align: right;\n    }\n</style>\n<table border=\"1\" class=\"dataframe\">\n  <thead>\n    <tr style=\"text-align: right;\">\n      <th></th>\n      <th>description</th>\n      <th>public_tests</th>\n      <th>private_tests</th>\n      <th>generated_tests</th>\n      <th>difficulty</th>\n      <th>cf_contest_id</th>\n      <th>cf_index</th>\n      <th>cf_points</th>\n      <th>cf_rating</th>\n      <th>cf_tags</th>\n      <th>time_limit</th>\n      <th>memory_limit_bytes</th>\n      <th>link</th>\n      <th>name_ru</th>\n      <th>task_ru</th>\n      <th>input</th>\n      <th>output</th>\n      <th>note</th>\n      <th>tag_ids</th>\n      <th>master_solution</th>\n    </tr>\n    <tr>\n      <th>name</th>\n      <th></th>\n      <th></th>\n      <th></th>\n      <th></th>\n      <th></th>\n      <th></th>\n      <th></th>\n      <th></th>\n      <th></th>\n      <th></th>\n      <th></th>\n      <th></th>\n      <th></th>\n      <th></th>\n      <th></th>\n      <th></th>\n      <th></th>\n      <th></th>\n      <th></th>\n      <th></th>\n    </tr>\n  </thead>\n  <tbody>\n    <tr>\n      <th>1000_A. Codehorses T-shirts</th>\n      <td>Codehorses has just hosted the second Codehors...</td>\n      <td>[input: \"2\\nM\\nXS\\nXS\\nM\\n\"\\noutput: \"0\\n\"\\n, ...</td>\n      <td>[input: \"6\\nM\\nXXS\\nXXL\\nXXL\\nL\\nL\\nXXS\\nXXL\\n...</td>\n      <td>[input: \"1\\nM\\nS\\n\"\\noutput: \"1\\n\"\\n, input: \"...</td>\n      <td>7</td>\n      <td>1000</td>\n      <td>A</td>\n      <td>0.0</td>\n      <td>1200</td>\n      <td>['greedy', 'implementation']</td>\n      <td>2.0</td>\n      <td>256000000</td>\n      <td>https://codeforces.com/contest/1000/problem/A?...</td>\n      <td>A. Футболки Codehorses</td>\n      <td>&lt;div&gt;\\n&lt;p&gt;Codehorses вот только закончил прове...</td>\n      <td>&lt;div class=\"input-specification\"&gt;\\n&lt;div class=...</td>\n      <td>&lt;div class=\"output-specification\"&gt;\\n&lt;div class...</td>\n      <td>&lt;div class=\"note\"&gt;\\n&lt;div class=\"section-title\"...</td>\n      <td>[21, 23]</td>\n      <td>using namespace std;\\nint n, i;\\nstring x;\\nmu...</td>\n    </tr>\n    <tr>\n      <th>1025_B. Weakened Common Divisor</th>\n      <td>During the research on properties of the great...</td>\n      <td>[input: \"2\\n10 16\\n7 17\\n\"\\noutput: \"-1\\n\"\\n, ...</td>\n      <td>[input: \"3\\n14 14\\n2 7\\n2 2\\n\"\\noutput: \"2\\n\"\\...</td>\n      <td>[input: \"3\\n14 16\\n2 7\\n2 2\\n\"\\noutput: \"2\"\\n,...</td>\n      <td>8</td>\n      <td>1025</td>\n      <td>B</td>\n      <td>1000.0</td>\n      <td>1600</td>\n      <td>['brute force', 'greedy', 'number theory']</td>\n      <td>1.5</td>\n      <td>256000000</td>\n      <td>https://codeforces.com/contest/1025/problem/B?...</td>\n      <td>B. Ослабленный Общий Делитель</td>\n      <td>&lt;div&gt;\\n&lt;p&gt;В процессе исследования свойств наиб...</td>\n      <td>&lt;div class=\"input-specification\"&gt;\\n&lt;div class=...</td>\n      <td>&lt;div class=\"output-specification\"&gt;\\n&lt;div class...</td>\n      <td>&lt;div class=\"note\"&gt;\\n&lt;div class=\"section-title\"...</td>\n      <td>[5, 21, 28]</td>\n      <td>\\nusing namespace std;\\nint main() {\\n    long...</td>\n    </tr>\n    <tr>\n      <th>1045_D. Interstellar battle</th>\n      <td>In the intergalactic empire Bubbledom there ar...</td>\n      <td>[input: \"5\\n0.50 0.29 0.49 0.95 0.83\\n2 3\\n0 3...</td>\n      <td>[input: \"1\\n0.28\\n30\\n0 0.72\\n0 0.55\\n0 0.80\\n...</td>\n      <td>[input: \"11\\n0.07 0.85 0.27 0.71 0.24 0.43 0.6...</td>\n      <td>10</td>\n      <td>1045</td>\n      <td>D</td>\n      <td>0.0</td>\n      <td>2200</td>\n      <td>['math', 'probabilities', 'trees']</td>\n      <td>1.0</td>\n      <td>256000000</td>\n      <td>https://codeforces.com/contest/1045/problem/D?...</td>\n      <td>D. Межзвездная битва</td>\n      <td>&lt;div&gt;\\n&lt;p&gt;В межгалактической империи Баблдом $...</td>\n      <td>&lt;div class=\"input-specification\"&gt;\\n&lt;div class=...</td>\n      <td>&lt;div class=\"output-specification\"&gt;\\n&lt;div class...</td>\n      <td>NaN</td>\n      <td>[25, 29, 36]</td>\n      <td>using namespace std;\\n\\n\\n\\n\\nconst int N = 10...</td>\n    </tr>\n    <tr>\n      <th>1068_D. Array Without Local Maximums</th>\n      <td>Ivan unexpectedly saw a present from one of hi...</td>\n      <td>[input: \"3\\n1 -1 2\\n\"\\noutput: \"1\\n\"\\n, input:...</td>\n      <td>[input: \"8\\n-1 -1 -1 59 -1 -1 -1 -1\\n\"\\noutput...</td>\n      <td>[input: \"2\\n23 38\\n\"\\noutput: \"0\\n\"\\n, input: ...</td>\n      <td>10</td>\n      <td>1068</td>\n      <td>D</td>\n      <td>500.0</td>\n      <td>1900</td>\n      <td>['dp']</td>\n      <td>2.0</td>\n      <td>512000000</td>\n      <td>https://codeforces.com/contest/1068/problem/D?...</td>\n      <td>D. Массив без локальных максимумов</td>\n      <td>&lt;div&gt;\\n&lt;p&gt;Ване попался на глаза подарок с како...</td>\n      <td>&lt;div class=\"input-specification\"&gt;\\n&lt;div class=...</td>\n      <td>&lt;div class=\"output-specification\"&gt;\\n&lt;div class...</td>\n      <td>&lt;div class=\"note\"&gt;\\n&lt;div class=\"section-title\"...</td>\n      <td>[12]</td>\n      <td>\\nusing namespace std;\\n\\nconst int mod = 9982...</td>\n    </tr>\n    <tr>\n      <th>1090_C. New Year Presents</th>\n      <td>Santa has prepared boxes with presents for n k...</td>\n      <td>[input: \"3 5\\n5 1 2 3 4 5\\n2 1 2\\n2 3 4\\n\"\\nou...</td>\n      <td>[input: \"1 1\\n0\\n\"\\noutput: \"0\\n\"\\n, input: \"1...</td>\n      <td>[input: \"1 2\\n0\\n\"\\noutput: \"0\\n\"\\n, input: \"3...</td>\n      <td>9</td>\n      <td>1090</td>\n      <td>C</td>\n      <td>0.0</td>\n      <td>2400</td>\n      <td>['constructive algorithms', 'data structures']</td>\n      <td>2.0</td>\n      <td>512000000</td>\n      <td>https://codeforces.com/contest/1090/problem/C?...</td>\n      <td>C. Новогодние подарки</td>\n      <td>&lt;div&gt;\\n&lt;p&gt;Санта-Клаус приготовил коробки с под...</td>\n      <td>&lt;div class=\"input-specification\"&gt;\\n&lt;div class=...</td>\n      <td>&lt;div class=\"output-specification\"&gt;\\n&lt;div class...</td>\n      <td>NaN</td>\n      <td>[8, 9]</td>\n      <td>NaN</td>\n    </tr>\n  </tbody>\n</table>\n</div>"
     },
     "execution_count": 3,
     "metadata": {},
     "output_type": "execute_result"
    }
   ],
   "source": [
    "df_lev.head()"
   ],
   "metadata": {
    "collapsed": false
   }
  },
  {
   "cell_type": "code",
   "execution_count": 8,
   "outputs": [],
   "source": [
    "df_kirill = pd.read_csv(\"new_file31.csv\", index_col=0)"
   ],
   "metadata": {
    "collapsed": false
   }
  },
  {
   "cell_type": "code",
   "execution_count": 9,
   "outputs": [
    {
     "data": {
      "text/plain": "Index(['name', 'description', 'public_tests', 'private_tests',\n       'generated_tests', 'difficulty', 'cf_contest_id', 'cf_index',\n       'cf_points', 'cf_rating', 'cf_tags', 'time_limit', 'memory_limit_bytes',\n       'link', 'task_ru', 'input', 'output', 'note', 'name_ru'],\n      dtype='object')"
     },
     "execution_count": 9,
     "metadata": {},
     "output_type": "execute_result"
    }
   ],
   "source": [
    "df_lev.columns"
   ],
   "metadata": {
    "collapsed": false
   }
  },
  {
   "cell_type": "code",
   "execution_count": 10,
   "outputs": [
    {
     "data": {
      "text/plain": "Index(['name', 'description', 'public_tests', 'private_tests',\n       'generated_tests', 'difficulty', 'cf_contest_id', 'cf_index',\n       'cf_points', 'cf_rating', 'cf_tags', 'time_limit', 'memory_limit_bytes',\n       'link', 'name_ru', 'task_ru', 'input', 'output', 'note'],\n      dtype='object')"
     },
     "execution_count": 10,
     "metadata": {},
     "output_type": "execute_result"
    }
   ],
   "source": [
    "df_kirill.columns"
   ],
   "metadata": {
    "collapsed": false
   }
  },
  {
   "cell_type": "code",
   "execution_count": 40,
   "outputs": [
    {
     "name": "stdout",
     "output_type": "stream",
     "text": [
      "<class 'pandas.core.frame.DataFrame'>\n",
      "Int64Index: 7819 entries, 0 to 7818\n",
      "Data columns (total 20 columns):\n",
      " #   Column              Non-Null Count  Dtype  \n",
      "---  ------              --------------  -----  \n",
      " 0   name                7819 non-null   object \n",
      " 1   description         7819 non-null   object \n",
      " 2   public_tests        7819 non-null   object \n",
      " 3   private_tests       7819 non-null   object \n",
      " 4   generated_tests     7819 non-null   object \n",
      " 5   difficulty          7819 non-null   int64  \n",
      " 6   cf_contest_id       7819 non-null   int64  \n",
      " 7   cf_index            7815 non-null   object \n",
      " 8   cf_points           7819 non-null   float64\n",
      " 9   cf_rating           7819 non-null   int64  \n",
      " 10  cf_tags             7819 non-null   object \n",
      " 11  time_limit          7815 non-null   object \n",
      " 12  memory_limit_bytes  7819 non-null   int64  \n",
      " 13  link                7819 non-null   object \n",
      " 14  name_ru             7811 non-null   object \n",
      " 15  task_ru             7811 non-null   object \n",
      " 16  input               7783 non-null   object \n",
      " 17  output              7740 non-null   object \n",
      " 18  note                5247 non-null   object \n",
      " 19  name_ru_strip       7811 non-null   object \n",
      "dtypes: float64(1), int64(4), object(15)\n",
      "memory usage: 1.3+ MB\n"
     ]
    }
   ],
   "source": [
    "df_kirill.info()"
   ],
   "metadata": {
    "collapsed": false
   }
  },
  {
   "cell_type": "code",
   "execution_count": 32,
   "outputs": [],
   "source": [
    "df_kirill[\"name_ru_strip\"] = df_kirill.name_ru.apply(lambda x: x.split('. ', 1)[1] if x == x else x)"
   ],
   "metadata": {
    "collapsed": false
   }
  },
  {
   "cell_type": "code",
   "execution_count": 41,
   "outputs": [
    {
     "data": {
      "text/plain": "0                                  A. Футболки Codehorses\n1                           B. Ослабленный Общий Делитель\n2                                    D. Межзвездная битва\n3                      D. Массив без локальных максимумов\n4                                   C. Новогодние подарки\n                              ...                        \n7814                                C. Двудольные отрезки\n7815                            F. Общественный транспорт\n7816                                       B. Карта кошки\n7817    D. Куро, НОД, побитовое исключающее ИЛИ, сумма...\n7818                           E. Достижимость из столицы\nName: name_ru, Length: 7819, dtype: object"
     },
     "execution_count": 41,
     "metadata": {},
     "output_type": "execute_result"
    }
   ],
   "source": [
    "df_kirill.name_ru"
   ],
   "metadata": {
    "collapsed": false
   }
  },
  {
   "cell_type": "code",
   "execution_count": 33,
   "outputs": [
    {
     "data": {
      "text/plain": "0                                     Футболки Codehorses\n1                              Ослабленный Общий Делитель\n2                                       Межзвездная битва\n3                         Массив без локальных максимумов\n4                                      Новогодние подарки\n                              ...                        \n7814                                   Двудольные отрезки\n7815                               Общественный транспорт\n7816                                          Карта кошки\n7817    Куро, НОД, побитовое исключающее ИЛИ, сумма и ...\n7818                              Достижимость из столицы\nName: name_ru_strip, Length: 7819, dtype: object"
     },
     "execution_count": 33,
     "metadata": {},
     "output_type": "execute_result"
    }
   ],
   "source": [
    "df_kirill.name_ru_strip"
   ],
   "metadata": {
    "collapsed": false
   }
  },
  {
   "cell_type": "code",
   "execution_count": 34,
   "outputs": [
    {
     "data": {
      "text/plain": "0                                     Футболки Codehorses\n1                              Ослабленный Общий Делитель\n2                                       Межзвездная битва\n3                                                     NaN\n4                                      Новогодние подарки\n                              ...                        \n7814                                   Двудольные отрезки\n7815                               Общественный транспорт\n7816                                          Карта кошки\n7817    Куро, НОД, побитовое исключающее ИЛИ, сумма и ...\n7818                              Достижимость из столицы\nName: name_ru, Length: 7819, dtype: object"
     },
     "execution_count": 34,
     "metadata": {},
     "output_type": "execute_result"
    }
   ],
   "source": [
    "df_lev.name_ru"
   ],
   "metadata": {
    "collapsed": false
   }
  },
  {
   "cell_type": "code",
   "execution_count": 35,
   "outputs": [
    {
     "data": {
      "text/plain": "1004"
     },
     "execution_count": 35,
     "metadata": {},
     "output_type": "execute_result"
    }
   ],
   "source": [
    "sum(df_lev.name_ru != df_kirill.name_ru_strip)"
   ],
   "metadata": {
    "collapsed": false
   }
  },
  {
   "cell_type": "code",
   "execution_count": 36,
   "outputs": [
    {
     "data": {
      "text/plain": "985"
     },
     "execution_count": 36,
     "metadata": {},
     "output_type": "execute_result"
    }
   ],
   "source": [
    "sum(df_lev.name_ru.isna())"
   ],
   "metadata": {
    "collapsed": false
   }
  },
  {
   "cell_type": "code",
   "execution_count": 37,
   "outputs": [],
   "source": [
    "index = ((df_kirill.name_ru_strip != df_lev.name_ru) & df_lev.name_ru.notna())"
   ],
   "metadata": {
    "collapsed": false
   }
  },
  {
   "cell_type": "code",
   "execution_count": 38,
   "outputs": [
    {
     "data": {
      "text/plain": "25                                      I_love_%username%\n391                                          Большой Вова\n445     Весь мир — задача по программированию (усложнё...\n495                                       Бегущий Студент\n611                                            Depression\n1245              Keep talking and nobody explodes – easy\n1306            Keep talking and nobody explodes – medium\n1489              Keep talking and nobody explodes – hard\n2100             Карусель, карусель — это радость для нас\n2571                                                  NaN\n3438    Весь мир — задача по программированию (упрощён...\n4403                                                  NaN\n4817                                                  NaN\n5245                        Кормен — лучший друг человека\n5491                                  Петрович — полиглот\n5659                               Провинился — на кухню!\n6379                               AquaMoon и два массива\n6749                                                  NaN\n6882                              В Новый год — с книгой!\nName: name_ru_strip, dtype: object"
     },
     "execution_count": 38,
     "metadata": {},
     "output_type": "execute_result"
    }
   ],
   "source": [
    "df_kirill[index].name_ru_strip"
   ],
   "metadata": {
    "collapsed": false
   }
  },
  {
   "cell_type": "code",
   "execution_count": 39,
   "outputs": [
    {
     "data": {
      "text/plain": "25                                    I_love_\\%username\\%\n391                                         Неоновое небо\n445     Весь мир --- задача по программированию (услож...\n495                                       Бегущий студент\n611                                             Депрессия\n1245             Keep talking and nobody explodes -- easy\n1306           Keep talking and nobody explodes -- medium\n1489             Keep talking and nobody explodes -- hard\n2100           Карусель, карусель --- это радость для нас\n2571                Махмуд, Эхаб и игра в четное-нечетное\n3438    Весь мир --- задача по программированию (упрощ...\n4403                                   Химическая таблица\n4817                                          Ходы короля\n5245                      Кормен --- лучший друг человека\n5491                                Петрович --- полиглот\n5659                             Провинился --- на кухню!\n6379                              AquaMoon  и два массива\n6749                                       Игра в монетку\n6882                            В Новый год --- с книгой!\nName: name_ru, dtype: object"
     },
     "execution_count": 39,
     "metadata": {},
     "output_type": "execute_result"
    }
   ],
   "source": [
    "df_lev[index].name_ru"
   ],
   "metadata": {
    "collapsed": false
   }
  },
  {
   "cell_type": "code",
   "execution_count": 54,
   "outputs": [
    {
     "data": {
      "text/plain": "3515    D10\n4300     C1\n3201     E1\n3637     D3\n4358     C1\nName: cf_index, dtype: object"
     },
     "execution_count": 54,
     "metadata": {},
     "output_type": "execute_result"
    }
   ],
   "source": [
    "df_kirill.cf_index.sort_values(key=lambda x: x.str.len(), ascending=False).head()"
   ],
   "metadata": {
    "collapsed": false
   }
  },
  {
   "cell_type": "code",
   "execution_count": 53,
   "outputs": [
    {
     "data": {
      "text/plain": "0       1.0\n1       1.0\n2       1.0\n3       1.0\n4       1.0\n       ... \n7814    1.0\n7815    1.0\n7816    1.0\n7817    1.0\n7818    1.0\nName: cf_index, Length: 7819, dtype: float64"
     },
     "execution_count": 53,
     "metadata": {},
     "output_type": "execute_result"
    }
   ],
   "source": [
    "df_kirill.cf_index.str.len()"
   ],
   "metadata": {
    "collapsed": false
   }
  },
  {
   "cell_type": "code",
   "execution_count": null,
   "outputs": [],
   "source": [],
   "metadata": {
    "collapsed": false
   }
  }
 ],
 "metadata": {
  "kernelspec": {
   "display_name": "Python 3",
   "language": "python",
   "name": "python3"
  },
  "language_info": {
   "codemirror_mode": {
    "name": "ipython",
    "version": 2
   },
   "file_extension": ".py",
   "mimetype": "text/x-python",
   "name": "python",
   "nbconvert_exporter": "python",
   "pygments_lexer": "ipython2",
   "version": "2.7.6"
  }
 },
 "nbformat": 4,
 "nbformat_minor": 0
}
