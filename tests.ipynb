{
 "cells": [
  {
   "cell_type": "code",
   "execution_count": 2,
   "metadata": {
    "collapsed": true
   },
   "outputs": [],
   "source": [
    "import pandas as pd"
   ]
  },
  {
   "cell_type": "code",
   "execution_count": 7,
   "outputs": [],
   "source": [
    "df_lev = pd.read_csv(\"rus_db_fill_v1.csv\", index_col=0)"
   ],
   "metadata": {
    "collapsed": false
   }
  },
  {
   "cell_type": "code",
   "execution_count": 8,
   "outputs": [],
   "source": [
    "df_kirill = pd.read_csv(\"new_file31.csv\", index_col=0)"
   ],
   "metadata": {
    "collapsed": false
   }
  },
  {
   "cell_type": "code",
   "execution_count": 9,
   "outputs": [
    {
     "data": {
      "text/plain": "Index(['name', 'description', 'public_tests', 'private_tests',\n       'generated_tests', 'difficulty', 'cf_contest_id', 'cf_index',\n       'cf_points', 'cf_rating', 'cf_tags', 'time_limit', 'memory_limit_bytes',\n       'link', 'task_ru', 'input', 'output', 'note', 'name_ru'],\n      dtype='object')"
     },
     "execution_count": 9,
     "metadata": {},
     "output_type": "execute_result"
    }
   ],
   "source": [
    "df_lev.columns"
   ],
   "metadata": {
    "collapsed": false
   }
  },
  {
   "cell_type": "code",
   "execution_count": 10,
   "outputs": [
    {
     "data": {
      "text/plain": "Index(['name', 'description', 'public_tests', 'private_tests',\n       'generated_tests', 'difficulty', 'cf_contest_id', 'cf_index',\n       'cf_points', 'cf_rating', 'cf_tags', 'time_limit', 'memory_limit_bytes',\n       'link', 'name_ru', 'task_ru', 'input', 'output', 'note'],\n      dtype='object')"
     },
     "execution_count": 10,
     "metadata": {},
     "output_type": "execute_result"
    }
   ],
   "source": [
    "df_kirill.columns"
   ],
   "metadata": {
    "collapsed": false
   }
  },
  {
   "cell_type": "code",
   "execution_count": 40,
   "outputs": [
    {
     "name": "stdout",
     "output_type": "stream",
     "text": [
      "<class 'pandas.core.frame.DataFrame'>\n",
      "Int64Index: 7819 entries, 0 to 7818\n",
      "Data columns (total 20 columns):\n",
      " #   Column              Non-Null Count  Dtype  \n",
      "---  ------              --------------  -----  \n",
      " 0   name                7819 non-null   object \n",
      " 1   description         7819 non-null   object \n",
      " 2   public_tests        7819 non-null   object \n",
      " 3   private_tests       7819 non-null   object \n",
      " 4   generated_tests     7819 non-null   object \n",
      " 5   difficulty          7819 non-null   int64  \n",
      " 6   cf_contest_id       7819 non-null   int64  \n",
      " 7   cf_index            7815 non-null   object \n",
      " 8   cf_points           7819 non-null   float64\n",
      " 9   cf_rating           7819 non-null   int64  \n",
      " 10  cf_tags             7819 non-null   object \n",
      " 11  time_limit          7815 non-null   object \n",
      " 12  memory_limit_bytes  7819 non-null   int64  \n",
      " 13  link                7819 non-null   object \n",
      " 14  name_ru             7811 non-null   object \n",
      " 15  task_ru             7811 non-null   object \n",
      " 16  input               7783 non-null   object \n",
      " 17  output              7740 non-null   object \n",
      " 18  note                5247 non-null   object \n",
      " 19  name_ru_strip       7811 non-null   object \n",
      "dtypes: float64(1), int64(4), object(15)\n",
      "memory usage: 1.3+ MB\n"
     ]
    }
   ],
   "source": [
    "df_kirill.info()"
   ],
   "metadata": {
    "collapsed": false
   }
  },
  {
   "cell_type": "code",
   "execution_count": 32,
   "outputs": [],
   "source": [
    "df_kirill[\"name_ru_strip\"] = df_kirill.name_ru.apply(lambda x: x.split('. ', 1)[1] if x == x else x)"
   ],
   "metadata": {
    "collapsed": false
   }
  },
  {
   "cell_type": "code",
   "execution_count": 41,
   "outputs": [
    {
     "data": {
      "text/plain": "0                                  A. Футболки Codehorses\n1                           B. Ослабленный Общий Делитель\n2                                    D. Межзвездная битва\n3                      D. Массив без локальных максимумов\n4                                   C. Новогодние подарки\n                              ...                        \n7814                                C. Двудольные отрезки\n7815                            F. Общественный транспорт\n7816                                       B. Карта кошки\n7817    D. Куро, НОД, побитовое исключающее ИЛИ, сумма...\n7818                           E. Достижимость из столицы\nName: name_ru, Length: 7819, dtype: object"
     },
     "execution_count": 41,
     "metadata": {},
     "output_type": "execute_result"
    }
   ],
   "source": [
    "df_kirill.name_ru"
   ],
   "metadata": {
    "collapsed": false
   }
  },
  {
   "cell_type": "code",
   "execution_count": 33,
   "outputs": [
    {
     "data": {
      "text/plain": "0                                     Футболки Codehorses\n1                              Ослабленный Общий Делитель\n2                                       Межзвездная битва\n3                         Массив без локальных максимумов\n4                                      Новогодние подарки\n                              ...                        \n7814                                   Двудольные отрезки\n7815                               Общественный транспорт\n7816                                          Карта кошки\n7817    Куро, НОД, побитовое исключающее ИЛИ, сумма и ...\n7818                              Достижимость из столицы\nName: name_ru_strip, Length: 7819, dtype: object"
     },
     "execution_count": 33,
     "metadata": {},
     "output_type": "execute_result"
    }
   ],
   "source": [
    "df_kirill.name_ru_strip"
   ],
   "metadata": {
    "collapsed": false
   }
  },
  {
   "cell_type": "code",
   "execution_count": 34,
   "outputs": [
    {
     "data": {
      "text/plain": "0                                     Футболки Codehorses\n1                              Ослабленный Общий Делитель\n2                                       Межзвездная битва\n3                                                     NaN\n4                                      Новогодние подарки\n                              ...                        \n7814                                   Двудольные отрезки\n7815                               Общественный транспорт\n7816                                          Карта кошки\n7817    Куро, НОД, побитовое исключающее ИЛИ, сумма и ...\n7818                              Достижимость из столицы\nName: name_ru, Length: 7819, dtype: object"
     },
     "execution_count": 34,
     "metadata": {},
     "output_type": "execute_result"
    }
   ],
   "source": [
    "df_lev.name_ru"
   ],
   "metadata": {
    "collapsed": false
   }
  },
  {
   "cell_type": "code",
   "execution_count": 35,
   "outputs": [
    {
     "data": {
      "text/plain": "1004"
     },
     "execution_count": 35,
     "metadata": {},
     "output_type": "execute_result"
    }
   ],
   "source": [
    "sum(df_lev.name_ru != df_kirill.name_ru_strip)"
   ],
   "metadata": {
    "collapsed": false
   }
  },
  {
   "cell_type": "code",
   "execution_count": 36,
   "outputs": [
    {
     "data": {
      "text/plain": "985"
     },
     "execution_count": 36,
     "metadata": {},
     "output_type": "execute_result"
    }
   ],
   "source": [
    "sum(df_lev.name_ru.isna())"
   ],
   "metadata": {
    "collapsed": false
   }
  },
  {
   "cell_type": "code",
   "execution_count": 37,
   "outputs": [],
   "source": [
    "index = ((df_kirill.name_ru_strip != df_lev.name_ru) & df_lev.name_ru.notna())"
   ],
   "metadata": {
    "collapsed": false
   }
  },
  {
   "cell_type": "code",
   "execution_count": 38,
   "outputs": [
    {
     "data": {
      "text/plain": "25                                      I_love_%username%\n391                                          Большой Вова\n445     Весь мир — задача по программированию (усложнё...\n495                                       Бегущий Студент\n611                                            Depression\n1245              Keep talking and nobody explodes – easy\n1306            Keep talking and nobody explodes – medium\n1489              Keep talking and nobody explodes – hard\n2100             Карусель, карусель — это радость для нас\n2571                                                  NaN\n3438    Весь мир — задача по программированию (упрощён...\n4403                                                  NaN\n4817                                                  NaN\n5245                        Кормен — лучший друг человека\n5491                                  Петрович — полиглот\n5659                               Провинился — на кухню!\n6379                               AquaMoon и два массива\n6749                                                  NaN\n6882                              В Новый год — с книгой!\nName: name_ru_strip, dtype: object"
     },
     "execution_count": 38,
     "metadata": {},
     "output_type": "execute_result"
    }
   ],
   "source": [
    "df_kirill[index].name_ru_strip"
   ],
   "metadata": {
    "collapsed": false
   }
  },
  {
   "cell_type": "code",
   "execution_count": 39,
   "outputs": [
    {
     "data": {
      "text/plain": "25                                    I_love_\\%username\\%\n391                                         Неоновое небо\n445     Весь мир --- задача по программированию (услож...\n495                                       Бегущий студент\n611                                             Депрессия\n1245             Keep talking and nobody explodes -- easy\n1306           Keep talking and nobody explodes -- medium\n1489             Keep talking and nobody explodes -- hard\n2100           Карусель, карусель --- это радость для нас\n2571                Махмуд, Эхаб и игра в четное-нечетное\n3438    Весь мир --- задача по программированию (упрощ...\n4403                                   Химическая таблица\n4817                                          Ходы короля\n5245                      Кормен --- лучший друг человека\n5491                                Петрович --- полиглот\n5659                             Провинился --- на кухню!\n6379                              AquaMoon  и два массива\n6749                                       Игра в монетку\n6882                            В Новый год --- с книгой!\nName: name_ru, dtype: object"
     },
     "execution_count": 39,
     "metadata": {},
     "output_type": "execute_result"
    }
   ],
   "source": [
    "df_lev[index].name_ru"
   ],
   "metadata": {
    "collapsed": false
   }
  },
  {
   "cell_type": "code",
   "execution_count": 54,
   "outputs": [
    {
     "data": {
      "text/plain": "3515    D10\n4300     C1\n3201     E1\n3637     D3\n4358     C1\nName: cf_index, dtype: object"
     },
     "execution_count": 54,
     "metadata": {},
     "output_type": "execute_result"
    }
   ],
   "source": [
    "df_kirill.cf_index.sort_values(key=lambda x: x.str.len(), ascending=False).head()"
   ],
   "metadata": {
    "collapsed": false
   }
  },
  {
   "cell_type": "code",
   "execution_count": 53,
   "outputs": [
    {
     "data": {
      "text/plain": "0       1.0\n1       1.0\n2       1.0\n3       1.0\n4       1.0\n       ... \n7814    1.0\n7815    1.0\n7816    1.0\n7817    1.0\n7818    1.0\nName: cf_index, Length: 7819, dtype: float64"
     },
     "execution_count": 53,
     "metadata": {},
     "output_type": "execute_result"
    }
   ],
   "source": [
    "df_kirill.cf_index.str.len()"
   ],
   "metadata": {
    "collapsed": false
   }
  },
  {
   "cell_type": "code",
   "execution_count": null,
   "outputs": [],
   "source": [],
   "metadata": {
    "collapsed": false
   }
  }
 ],
 "metadata": {
  "kernelspec": {
   "display_name": "Python 3",
   "language": "python",
   "name": "python3"
  },
  "language_info": {
   "codemirror_mode": {
    "name": "ipython",
    "version": 2
   },
   "file_extension": ".py",
   "mimetype": "text/x-python",
   "name": "python",
   "nbconvert_exporter": "python",
   "pygments_lexer": "ipython2",
   "version": "2.7.6"
  }
 },
 "nbformat": 4,
 "nbformat_minor": 0
}
